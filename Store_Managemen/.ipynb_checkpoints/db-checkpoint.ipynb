{
 "cells": [
  {
   "cell_type": "code",
   "execution_count": 1,
   "metadata": {},
   "outputs": [],
   "source": [
    "import sqlite3\n",
    "\n",
    "\n",
    "class Database:\n",
    "    def __init__(self, db):\n",
    "        self.conn = sqlite3.connect(db)\n",
    "        self.cur = self.conn.cursor()\n",
    "        self.cur.execute(\n",
    "            \"CREATE TABLE IF NOT EXISTS parts (id INTEGER PRIMARY KEY, part text, customer text, retailer text, price text)\")\n",
    "        self.conn.commit()\n",
    "\n",
    "    def fetch(self):\n",
    "        self.cur.execute(\"SELECT * FROM parts\")\n",
    "        rows = self.cur.fetchall()\n",
    "        return rows\n",
    "\n",
    "    def insert(self, part, customer, retailer, price):\n",
    "        self.cur.execute(\"INSERT INTO parts VALUES (NULL, ?, ?, ?, ?)\",\n",
    "                         (part, customer, retailer, price))\n",
    "        self.conn.commit()\n",
    "\n",
    "    def remove(self, id):\n",
    "        self.cur.execute(\"DELETE FROM parts WHERE id=?\", (id,))\n",
    "        self.conn.commit()\n",
    "\n",
    "    def update(self, id, part, customer, retailer, price):\n",
    "        self.cur.execute(\"UPDATE parts SET part = ?, customer = ?, retailer = ?, price = ? WHERE id = ?\",\n",
    "                         (part, customer, retailer, price, id))\n",
    "        self.conn.commit()\n",
    "\n",
    "    def __del__(self):\n",
    "        self.conn.close()\n",
    "\n",
    "\n",
    "# db = Database('store.db')\n",
    "# db.insert(\"4GB DDR4 Ram\", \"John Doe\", \"Microcenter\", \"160\")\n",
    "# db.insert(\"Asus Mobo\", \"Mike Henry\", \"Microcenter\", \"360\")\n",
    "# db.insert(\"500w PSU\", \"Karen Johnson\", \"Newegg\", \"80\")\n",
    "# db.insert(\"2GB DDR4 Ram\", \"Karen Johnson\", \"Newegg\", \"70\")\n",
    "# db.insert(\"24 inch Samsung Monitor\", \"Sam Smith\", \"Best Buy\", \"180\")\n",
    "# db.insert(\"NVIDIA RTX 2080\", \"Albert Kingston\", \"Newegg\", \"679\")\n",
    "# db.insert(\"600w Corsair PSU\", \"Karen Johnson\", \"Newegg\", \"130\")"
   ]
  },
  {
   "cell_type": "code",
   "execution_count": null,
   "metadata": {},
   "outputs": [],
   "source": []
  }
 ],
 "metadata": {
  "kernelspec": {
   "display_name": "Python 3",
   "language": "python",
   "name": "python3"
  },
  "language_info": {
   "codemirror_mode": {
    "name": "ipython",
    "version": 3
   },
   "file_extension": ".py",
   "mimetype": "text/x-python",
   "name": "python",
   "nbconvert_exporter": "python",
   "pygments_lexer": "ipython3",
   "version": "3.8.3"
  }
 },
 "nbformat": 4,
 "nbformat_minor": 4
}
